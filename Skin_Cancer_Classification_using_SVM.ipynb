{
  "nbformat": 4,
  "nbformat_minor": 0,
  "metadata": {
    "colab": {
      "name": "Skin Cancer Classification using SVM [FIX].ipynb",
      "provenance": [],
      "collapsed_sections": []
    },
    "kernelspec": {
      "name": "python3",
      "display_name": "Python 3"
    },
    "language_info": {
      "name": "python"
    },
    "accelerator": "TPU"
  },
  "cells": [
    {
      "cell_type": "code",
      "metadata": {
        "colab": {
          "base_uri": "https://localhost:8080/"
        },
        "id": "JVgFTDO534mM",
        "outputId": "0c2b2574-fa3e-4bc6-f62f-a99f1efd802a"
      },
      "source": [
        "from google.colab import drive\n",
        "drive.mount('/content/drive')"
      ],
      "execution_count": null,
      "outputs": [
        {
          "output_type": "stream",
          "name": "stdout",
          "text": [
            "Drive already mounted at /content/drive; to attempt to forcibly remount, call drive.mount(\"/content/drive\", force_remount=True).\n"
          ]
        }
      ]
    },
    {
      "cell_type": "code",
      "metadata": {
        "id": "sUmvRYwW4Q39"
      },
      "source": [
        "import pandas as pd\n",
        "import numpy as np\n",
        "import time\n",
        "import seaborn as sns\n",
        "from sklearn import svm\n",
        "from sklearn.model_selection import train_test_split\n",
        "from sklearn.ensemble import RandomForestClassifier\n",
        "from sklearn.feature_selection import RFECV\n",
        "from sklearn.model_selection import GridSearchCV\n",
        "from sklearn.tree import DecisionTreeClassifier\n",
        "from sklearn.preprocessing import LabelEncoder\n",
        "from sklearn.preprocessing import StandardScaler\n",
        "from sklearn.metrics import confusion_matrix\n",
        "from sklearn.metrics import classification_report\n",
        "from sklearn.metrics import roc_auc_score\n",
        "from sklearn.metrics import roc_curve\n",
        "import sklearn.metrics\n",
        "import matplotlib.pyplot as plt\n",
        "from sklearn.metrics import precision_recall_fscore_support\n",
        "from sklearn.linear_model import SGDClassifier\n",
        "from tqdm import tqdm\n",
        "from PIL import Image\n",
        "import os\n",
        "import cv2"
      ],
      "execution_count": null,
      "outputs": []
    },
    {
      "cell_type": "code",
      "metadata": {
        "colab": {
          "base_uri": "https://localhost:8080/"
        },
        "id": "V9R-DsQh4dtW",
        "outputId": "f85effac-9da8-4294-ed39-fda9314f02cf"
      },
      "source": [
        "def Dataset_loader(DIR, RESIZE, sigmaX=10):\n",
        "    IMG = []\n",
        "    read = lambda imname: np.asarray(Image.open(imname).convert(\"RGB\"))\n",
        "    for IMAGE_NAME in tqdm(os.listdir(DIR)):\n",
        "        PATH = os.path.join(DIR,IMAGE_NAME)\n",
        "        _, ftype = os.path.splitext(PATH)\n",
        "        if ftype == \".jpg\":\n",
        "            img = read(PATH)\n",
        "           \n",
        "            img = cv2.resize(img, (RESIZE,RESIZE))\n",
        "           \n",
        "            IMG.append(np.array(img))\n",
        "    return IMG\n",
        "\n",
        "benign_train = np.array(Dataset_loader('/content/drive/MyDrive/Scin Cancer/ISIC 2016/Training/benign',224))\n",
        "malign_train = np.array(Dataset_loader('/content/drive/MyDrive/Scin Cancer/ISIC 2016/Training/malignant',224))\n",
        "benign_val = np.array(Dataset_loader('/content/drive/MyDrive/Scin Cancer/ISIC 2016/Validation/benign',224))\n",
        "malign_val = np.array(Dataset_loader('/content/drive/MyDrive/Scin Cancer/ISIC 2016/Validation/malignant',224))\n",
        "benign_test = np.array(Dataset_loader('/content/drive/MyDrive/Scin Cancer/ISIC 2016/Testing/benign',224))\n",
        "malign_test = np.array(Dataset_loader('/content/drive/MyDrive/Scin Cancer/ISIC 2016/Testing/malignant',224))"
      ],
      "execution_count": null,
      "outputs": [
        {
          "output_type": "stream",
          "name": "stderr",
          "text": [
            "100%|██████████| 582/582 [02:41<00:00,  3.61it/s]\n",
            "100%|██████████| 138/138 [00:38<00:00,  3.60it/s]\n",
            "100%|██████████| 145/145 [00:52<00:00,  2.75it/s]\n",
            "100%|██████████| 35/35 [00:08<00:00,  3.91it/s]\n",
            "100%|██████████| 304/304 [01:33<00:00,  3.26it/s]\n",
            "100%|██████████| 75/75 [00:19<00:00,  3.89it/s]\n"
          ]
        }
      ]
    },
    {
      "cell_type": "code",
      "metadata": {
        "id": "_J7xG2Ks4wfy"
      },
      "source": [
        "benign_train_label = np.zeros(len(benign_train))\n",
        "malign_train_label = np.ones(len(malign_train))\n",
        "benign_val_label = np.zeros(len(benign_val))\n",
        "malign_val_label = np.ones(len(malign_val))\n",
        "benign_test_label = np.zeros(len(benign_test))\n",
        "malign_test_label = np.ones(len(malign_test)) \n",
        "\n",
        "X_train = np.concatenate((benign_train, malign_train, benign_val, malign_val), axis = 0)\n",
        "Y_train = np.concatenate((benign_train_label, malign_train_label, benign_val_label, malign_val_label), axis = 0)\n",
        "X_test = np.concatenate((benign_test, malign_test), axis = 0)\n",
        "Y_test = np.concatenate((benign_test_label, malign_test_label), axis = 0)"
      ],
      "execution_count": null,
      "outputs": []
    },
    {
      "cell_type": "code",
      "metadata": {
        "colab": {
          "base_uri": "https://localhost:8080/"
        },
        "id": "gkVtUwtte-Rb",
        "outputId": "2abea897-32e8-4280-a9e9-b783eeb828d5"
      },
      "source": [
        "# Oversample and plot imbalanced dataset with SMOTE\n",
        "from collections import Counter\n",
        "from imblearn.over_sampling import SMOTE\n",
        "\n",
        "# summarize class distribution\n",
        "counter = Counter(Y_train)\n",
        "print(counter)"
      ],
      "execution_count": null,
      "outputs": [
        {
          "output_type": "stream",
          "name": "stdout",
          "text": [
            "Counter({0.0: 727, 1.0: 173})\n"
          ]
        },
        {
          "output_type": "stream",
          "name": "stderr",
          "text": [
            "/usr/local/lib/python3.7/dist-packages/sklearn/externals/six.py:31: FutureWarning: The module is deprecated in version 0.21 and will be removed in version 0.23 since we've dropped support for Python 2.7. Please rely on the official version of six (https://pypi.org/project/six/).\n",
            "  \"(https://pypi.org/project/six/).\", FutureWarning)\n",
            "/usr/local/lib/python3.7/dist-packages/sklearn/utils/deprecation.py:144: FutureWarning: The sklearn.neighbors.base module is  deprecated in version 0.22 and will be removed in version 0.24. The corresponding classes / functions should instead be imported from sklearn.neighbors. Anything that cannot be imported from sklearn.neighbors is now part of the private API.\n",
            "  warnings.warn(message, FutureWarning)\n"
          ]
        }
      ]
    },
    {
      "cell_type": "code",
      "metadata": {
        "colab": {
          "base_uri": "https://localhost:8080/"
        },
        "id": "7EHrBxzoe_7P",
        "outputId": "7970529b-5fec-4068-c613-f46392bef6fd"
      },
      "source": [
        "sm = SMOTE(random_state=42)\n",
        "    \n",
        "train_rows=len(X_train)\n",
        "test_rows=len(X_test)\n",
        "X_train = X_train.reshape(train_rows,-1)\n",
        "X_test = X_test.reshape(test_rows,-1)\n",
        "print(X_train.shape)\n",
        "print(X_test.shape)\n",
        "\n",
        "X_train, Y_train = sm.fit_resample(X_train, Y_train)"
      ],
      "execution_count": null,
      "outputs": [
        {
          "output_type": "stream",
          "name": "stdout",
          "text": [
            "(1454, 150528)\n",
            "(379, 150528)\n"
          ]
        }
      ]
    },
    {
      "cell_type": "code",
      "metadata": {
        "colab": {
          "base_uri": "https://localhost:8080/",
          "height": 873
        },
        "id": "LUDCWaI_c0vW",
        "outputId": "51d951fc-2f6c-4df2-8b6b-e1f3e01091d1"
      },
      "source": [
        "def SupportVectorMachines(train, label, test, label_test):\n",
        "    start = time.time()\n",
        "\n",
        "    model1 = svm.SVC(kernel='linear', C=0.3)\n",
        "    model1.fit(train, label)\n",
        "\n",
        "    pred1 = model1.predict(test)\n",
        "\n",
        "    end = time.time()\n",
        "\n",
        "    confusion_mat1 = confusion_matrix(label_test, pred1)\n",
        "\n",
        "    def get_confusion_matrix_values2(label_test, pred1):\n",
        "        cm1 = confusion_matrix(label_test, pred1)\n",
        "        return (cm1[0][0], cm1[0][1], cm1[1][0], cm1[1][1])\n",
        "\n",
        "    TN1, FP1, FN1, TP1 = get_confusion_matrix_values2(label_test, pred1)\n",
        "\n",
        "    denom1 = TP1 + FP1\n",
        "\n",
        "    print('TP', TP1, 'FP', FP1, 'FN', FN1, 'TN', TN1)\n",
        "    print(classification_report(label_test, pred1))\n",
        "\n",
        "    print('Accuracy of Support vector Machines classifier on test set: {:.2f}\\n'.format(\n",
        "        float(confusion_mat1[0, 0] + confusion_mat1[1, 1]) * 100 / confusion_mat1.sum()))\n",
        "    print(confusion_mat1)\n",
        "\n",
        "    print('Time took for training and predicting the results {0:.5} in seconds\\n'.format(float(end - start)))\n",
        "\n",
        "    recall1 = float(confusion_mat1[1, 1] / (confusion_mat1[1, 1] + confusion_mat1[1, 0]))\n",
        "    prec1 = float(confusion_mat1[1, 1] / (confusion_mat1[1, 1] + confusion_mat1[0, 1]))\n",
        "\n",
        "    f_score1 = (2 * recall1 * prec1) / (recall1 + prec1)\n",
        "\n",
        "    # print('real prec', prec)\n",
        "\n",
        "    print('Recall ', recall1)\n",
        "\n",
        "    print('F1- Score  ', f_score1)\n",
        "\n",
        "    roc_auc4 = roc_auc_score(label_test, pred1)\n",
        "\n",
        "    fpr4, tpr4, thresholds4 = roc_curve(label_test, pred1)\n",
        "    plt.figure()\n",
        "    plt.plot(fpr4, tpr4, label='Support Vector Machines Classifier (area = %0.2f)' % roc_auc4)\n",
        "    plt.plot([0, 1], [0, 1], 'r--')\n",
        "    plt.xlim([0.0, 1.0])\n",
        "    plt.ylim([0.0, 1.0])\n",
        "    plt.xlabel('False Positive Rate')\n",
        "    plt.ylabel('True Positive Rate')\n",
        "    plt.title('ROC for SVM with Linear Kernel')\n",
        "    plt.legend(loc=\"lower right\")\n",
        "    plt.savefig('Log_ROC_SVM')\n",
        "    plt.show()\n",
        "\n",
        "    print('Area Under the Curve ', roc_auc4)\n",
        "    sns.heatmap(confusion_mat1, annot=True)\n",
        "    plt.savefig('SVM.png')\n",
        "    plt.show()\n",
        "\n",
        "\n",
        "SupportVectorMachines(X_train, Y_train, X_test, Y_test)"
      ],
      "execution_count": null,
      "outputs": [
        {
          "output_type": "stream",
          "name": "stdout",
          "text": [
            "TP 7 FP 31 FN 68 TN 273\n",
            "              precision    recall  f1-score   support\n",
            "\n",
            "         0.0       0.80      0.90      0.85       304\n",
            "         1.0       0.18      0.09      0.12        75\n",
            "\n",
            "    accuracy                           0.74       379\n",
            "   macro avg       0.49      0.50      0.49       379\n",
            "weighted avg       0.68      0.74      0.70       379\n",
            "\n",
            "Accuracy of Support vector Machines classifier on test set: 73.88\n",
            "\n",
            "[[273  31]\n",
            " [ 68   7]]\n",
            "Time took for training and predicting the results 637.14 in seconds\n",
            "\n",
            "Recall  0.09333333333333334\n",
            "F1- Score   0.12389380530973451\n"
          ]
        },
        {
          "output_type": "display_data",
          "data": {
            "image/png": "[encoded data removed]",
            "text/plain": [
              "<Figure size 432x288 with 1 Axes>"
            ]
          },
          "metadata": {
            "needs_background": "light"
          }
        },
        {
          "output_type": "stream",
          "name": "stdout",
          "text": [
            "Area Under the Curve  0.49567982456140347\n"
          ]
        },
        {
          "output_type": "display_data",
          "data": {
            "image/png": "[encoded data removed]",
            "text/plain": [
              "<Figure size 432x288 with 2 Axes>"
            ]
          },
          "metadata": {
            "needs_background": "light"
          }
        }
      ]
    }
  ]
}